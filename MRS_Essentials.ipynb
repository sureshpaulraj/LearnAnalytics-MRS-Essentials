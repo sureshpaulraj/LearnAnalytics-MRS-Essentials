{
 "cells": [
  {
   "cell_type": "markdown",
   "metadata": {},
   "source": [
    "# Essentials of Microsoft R Server: A self-guided tutorial\n",
    "\n",
    "Welcome! This self-guided tutorial is intended to help you learn the \n",
    "essentials of Microsoft R Server (MRS): its strengths, when to use it, and how to \n",
    "use its core functions. \n"
   ]
  },
  {
   "cell_type": "markdown",
   "metadata": {},
   "source": [
    "# Pre-requisites\n",
    "\n",
    "This tutorial leverages the [jupyter notebook platform](https://jupyter.org/), and this platform may not be familiar to all of you. If you are unfamiliar with this environment, it is strongly encouraged to take a few moments and visit an introduction to using it, such as this [excellent tutorial presented at UseR2016!](https://github.com/michhar/useR2016-tutorial-jupyter).\n",
    "\n",
    "To leverage the capacities of jupyter and R together, it requires that the [appropriate R kernel](https://github.com/IRkernel/IRkernel) is installed on the machine running jupyter. \n",
    "\n",
    "It also requires that the version of R that the kernel points to is [Microsoft R (Server or Client)](https://msdn.microsoft.com/en-us/microsoft-r/index).\n",
    "\n",
    "One easy way of deploying these bits is to leverage the [Data Science Virtual Machine on Azure](https://azure.microsoft.com/en-us/marketplace/partners/microsoft-ads/standard-data-science-vm/).\n",
    "\n",
    "## Essential Tips\n",
    "\n",
    "A very brief summary of the critical components and commands are:\n",
    "\n",
    "1. Press `Ctrl+Enter` to run (or render) the current cell.\n",
    "2. Output will print to the console the notebook. You may have to scroll up to see it all.\n",
    "3. Get help for any function by typing a question mark and then its name into\n",
    "   the console: `?rxLinMod`. It will split the window, and will bring up the documentation for \n",
    "   that function below.\n",
    "4. Get help for *all* the MRS functions with: `help(\"RevoScaleR\")`\n",
    "5. Files will appear in the specified directory. You can find them by selecting File in the menu bar and selecting \"Open...\". This will open a new browser window with a file navigator.\n",
    "6. R objects can be viewed by typing `ls()` in an R cell.\n",
    "7. Run all the example code!\n",
    "\n",
    "There are a number of hands-on exercises in the document, so while you can run the notebook from beginning to end, you will get a lot more out of it by actually walking through cell-by-cell, and filling out the corresponding exercises.\n"
   ]
  },
  {
   "cell_type": "markdown",
   "metadata": {},
   "source": [
    "## What is Microsoft R Server?\n",
    "\n",
    "The statistical programming language R is an open-source, immensely popular\n",
    "and useful tool for data analysis and machine learning. It's widely taught in\n",
    "universities, has thousands of packages that extend its capabilities, and it's\n",
    "free!\n",
    "\n",
    "But R has two crucial limitations that make using it for big data challenging:\n",
    "1. It's single-threaded. No matter how many cores your computer has, R will only use one for its operations.\n",
    "2. It's memory-bound. All of the data you want to process has to fit into your computer's RAM. Megabytes of data? No problem. Terabytes? Trouble.\n",
    "\n",
    "Microsoft R Server (MRS) extends open-source R in three critical ways to overcome these limitations:\n",
    "\n",
    "1. Multi-threaded Math: MRS is built with the Intel MKL Library, which enables multi-threaded \n",
    "  matrix operations - very useful for matrix-intensive operations!\n",
    "2. Parallel Algorithms:  MRS comes with a suite of functions called ScaleR that \n",
    "   allows computationally intense algorithms to be distributed across many cores\n",
    "   and/or nodes in a cluster.\n",
    "3. Data In External Memory: MRS doesn't require data to be in-memory for ScaleR algorithms to work.\n",
    "\n",
    "The native data store is the 'eXternal Data Frame', or XDF file. This file is\n",
    "   optimized for data analysis in a number of ways (see below), but MRS also\n",
    "  works well with databases, HDFS, Spark, and so on."
   ]
  },
  {
   "cell_type": "markdown",
   "metadata": {},
   "source": [
    "## The XDF File\n",
    "\n",
    "The standard way to store bigger-than-memory data for MRS is to create an\n",
    "'eXternal Data Frame' (XDF) file. XDF files are optimized for fast, distributed\n",
    "computation in a few essential ways:\n",
    "\n",
    "1. Data is written to disk in chunks of N rows. This makes it natural to\n",
    "   read chunks of data, either in serial or for distribution to nodes, and\n",
    "   easy to append new data to an existing XDF file without re-writing the \n",
    "   entire file.\n",
    "2. Within each chunk, values are stored column-wise. In statistics and machine\n",
    "   learning, it's often more useful to have fast access to an entire column\n",
    "   than fast access to an entire record (e.g., when calculating a mean)\n",
    "3. Essential stats, like the low and high values of numeric variables and the \n",
    "   unique levels of categorical variables, are pre-computed when the XDF file \n",
    "   is created or modified, providing a quick overview of the dataset without\n",
    "   processing it.\n",
    "\n",
    "\n",
    "You can also create \"composite\" XDF files in which chunks of data spread across\n",
    "many files are treated as one XDF - useful when you're working with a \n",
    "distributed file system like HDFS."
   ]
  },
  {
   "cell_type": "markdown",
   "metadata": {},
   "source": [
    "## Import to XDF\n",
    "\n",
    "You can use the `rxImport()` function to create an XDF file from a wide variety\n",
    "of sources: text files, SAS and SPSS files, ODBC connections, and so on.\n",
    "`rxImport()` has just two essential arguments: \n",
    "\n",
    "- `inData`: a pointer to the file or connection you want to pull from, and \n",
    "- `outFile`: a filepath where you'd like your new XDF to appear. \n",
    "\n",
    "It's got plenty of options for importing subsets, specifying\n",
    "variables types, and so on - but `inData` and `outFile` are the only essentials.\n",
    "\n",
    "In this example, use `rxImport()` to pull in some data from a CSV file. We'll\n",
    "work with a dataset of all of the flights originating in three New York\n",
    "City-area airports in 2013. The original data are available directly from the [`nycflights13` package in R](https://cran.r-project.org/web/packages/nycflights13/index.html), but we have already processed the data here to simplify the tutorial.\n",
    "\n",
    "Here's an overview of its variables:\n",
    "- year, month, day, hour, minute: the date and time on which the flight departed\n",
    "- dep_time: the time of departure\n",
    "- dep_delay: how late the plane was in departing (in minutes)\n",
    "- arr_time, arr_delay: same as dep_time and dep_delay, but for arrival\n",
    "- carrier: the shorthand code for the airline operating the flight\n",
    "- tailnum: the tail number (and unique identifier) for each plane\n",
    "- flight: the flight number\n",
    "- origin: the origin airport - New York's JFK and LaGuardia (LGA), and New Jersey's Newark (EWR)\n",
    "- dest: the destination airport (many)\n",
    "- air_time: the time the plane spent aloft (doesn't include taxi time)\n",
    "- distance: number of miles flown\n",
    "\n",
    "To start, let's import just one quarter of the flights.\n"
   ]
  },
  {
   "cell_type": "code",
   "execution_count": null,
   "metadata": {
    "collapsed": false
   },
   "outputs": [],
   "source": [
    "# First, let's create a very simple R character object called \"flightsCsv\" that points to\n",
    "# the CSV file, flights_q1.csv (which is in the same directory as this notebook)\n",
    "flightsCsv <- \"flights_q1.csv\"\n",
    "\n",
    "# Next, let's create another R character objected called \"flightsXdf\" that holds the\n",
    "# filepath for the XDF file, flights.xdf.\n",
    "# Note: This doesn't actually create the file! It just tells R where we want the file to\n",
    "# go. Again, this file will be created in the current working directory.\n",
    "flightsXdf <- \"flights.xdf\"\n",
    "\n",
    "# Now, let's import flightsCsv into our new flightsXdf. If you're an R user,\n",
    "# this might seem kind of strange: we're not assigning the results of rxImport()\n",
    "# to an object, because all it does is create a new file.\n",
    "# Even though optional, the `overwrite` option here is used in case the file already exists.\n",
    "rxImport(inData = flightsCsv, outFile = flightsXdf, overwrite = TRUE)\n",
    "\n",
    "# It's always a good idea to check the results. `rxGetInfo()` retrieves that\n",
    "# pre-computed metadata mentioned above, which makes it essential for checking\n",
    "# newly-imported data. In its simplest form, you can just give it the path to\n",
    "# the XDF file:\n",
    "rxGetInfo(flightsXdf)\n",
    "\n",
    "# But you can get detailed information on the variables by adding\n",
    "# getVarInfo = TRUE\n",
    "# and peek at the first few rows of the dataset by adding\n",
    "# numRows = 5\n",
    "rxGetInfo(flightsXdf, getVarInfo = TRUE, numRows = 5)"
   ]
  },
  {
   "cell_type": "code",
   "execution_count": null,
   "metadata": {
    "collapsed": false
   },
   "outputs": [],
   "source": [
    "###################\n",
    "# Exercise 1: Append the Remaining Flights\n",
    "###################\n",
    "\n",
    "# XDF files have one other crucial feature: once created, they can only be\n",
    "# modified in two ways:\n",
    "#   1. You can add new rows by adding the argument append = TRUE\n",
    "#   2. You can overwrite the existing file by adding overwrite = TRUE\n",
    "# Very large XDF files can take a while to create, so MRS includes this small\n",
    "# hurdle to make sure that any changes you make are intentional. In this\n",
    "# tutorial, we'll use append and overwrite quite a bit - but you should be\n",
    "# careful about using them often in production.\n",
    "\n",
    "# For this exercise, use `rxImport()` to append the flights_q234.csv file onto your\n",
    "# existing flightsXdf file. You'll need to use the `inData`, `outFile`, and `append`\n",
    "# arguments.\n",
    "\n",
    "# Here's a pointer to the CSV file:\n",
    "moreFlightsCsv <- \"flights_q234.csv\"\n",
    "\n",
    "\n",
    "# Append moreFlightsCsv to the *existing* XDF here:\n",
    "# Reminder: R is case-sensitive!\n",
    "\n",
    "# Can you report how many rows are in the dataset using rxGetInfo?\n",
    "# How does this number compare to the number of rows in only flights_q1?\n",
    "# What would happen if you ran the `rxImport()` command with append set to true more than once?\n"
   ]
  },
  {
   "cell_type": "code",
   "execution_count": null,
   "metadata": {
    "collapsed": false
   },
   "outputs": [],
   "source": [
    "# Import a second table\n",
    "\n",
    "# We'll also use a table of data about airports in this analysis.\n",
    "# Load airports.csv into a new XDF file\n",
    "\n",
    "# Here's a pointer to the CSV file:\n",
    "airportsCsv <- \"airports.csv\"\n",
    "\n",
    "# Here's the location of the XDF file:\n",
    "airportsXdf <- \"airports.xdf\"\n",
    "\n",
    "# Import the CSV to a new XDF here:\n",
    "rxImport(inData = airportsCsv,\n",
    "        outFile = airportsXdf,\n",
    "        overwrite = TRUE)"
   ]
  },
  {
   "cell_type": "code",
   "execution_count": null,
   "metadata": {
    "collapsed": false
   },
   "outputs": [],
   "source": [
    "## Exercise 2.\n",
    "\n",
    "# Check the airports xdf file using rxGetInfo()"
   ]
  },
  {
   "cell_type": "markdown",
   "metadata": {},
   "source": [
    "# Data Management\n",
    "\n",
    "Now that you have an XDF, let's look how MRS handles the standard data\n",
    "management tasks.\n",
    "\n",
    "\n",
    "\n",
    "### Sorting XDFs\n",
    "\n",
    "\n",
    "The `rxSort()` function handles sorting datasets. Just like `rxImport()`, it takes\n",
    "the `inData` and `outFile` arguments; it also takes the `sortByVars` argument,\n",
    "for naming the variables you want to sort."
   ]
  },
  {
   "cell_type": "code",
   "execution_count": null,
   "metadata": {
    "collapsed": false
   },
   "outputs": [],
   "source": [
    "# Sort by arrival delay\n",
    "flightsSortedXdf <- \"flightsSorted.xdf\"\n",
    "\n",
    "# Here's a complete and common rxSort() command.\n",
    "# Note that arr_delay is quoted.\n",
    "rxSort(inData = flightsXdf,\n",
    "       outFile = flightsSortedXdf,\n",
    "       sortByVars = \"arr_delay\")"
   ]
  },
  {
   "cell_type": "markdown",
   "metadata": {},
   "source": [
    "### Check the Data!\n",
    "\n",
    "A more general-purpose function for doing data processing is `rxDataStep()`. Like many other `RevoScaleR` functions, it takes standard `inData` and `outFile` arguments, as well as many others. We will explore this function in more depth below, but for now, it provides a simple interface for extracting the first few rows of a dataset. In the next cell, we use the `numRows` argument to extract the first 10 rows of the dataset."
   ]
  },
  {
   "cell_type": "code",
   "execution_count": null,
   "metadata": {
    "collapsed": false
   },
   "outputs": [],
   "source": [
    "# Leaving the `outFile` argument as NULL actually reads the data in to the R session as\n",
    "# a standard R data.frame, which allows us to view the data within the R console:\n",
    "# numRows is a numeric argument that indicates how many rows to read and process.\n",
    "rxDataStep( inData = flightsSortedXdf, numRows = 10)"
   ]
  },
  {
   "cell_type": "code",
   "execution_count": null,
   "metadata": {
    "collapsed": false
   },
   "outputs": [],
   "source": [
    "# Might make more sense to sort the other way. If so, just set decreasing = TRUE\n",
    "# in the call to `rxSort()`\n",
    "# We're going to overwrite our previous flightsSorted.xdf, so be sure to set\n",
    "# overwrite = TRUE\n",
    "rxSort(inData = flightsXdf,\n",
    "       outFile = flightsSortedXdf,\n",
    "       sortByVars = \"arr_delay\",\n",
    "       decreasing = TRUE,\n",
    "       overwrite = TRUE)\n",
    "\n",
    "\n",
    "\n",
    "# Check the results\n",
    "rxDataStep(flightsSortedXdf, numRows = 10)"
   ]
  },
  {
   "cell_type": "code",
   "execution_count": null,
   "metadata": {
    "collapsed": false
   },
   "outputs": [],
   "source": [
    "###################\n",
    "# Exercise 3: Sort an XDF\n",
    "###################\n",
    "\n",
    "# Sort flightsXdf by decreasing origin and then by increasing distance.\n",
    "# To sort by two variables, use the c() function to combine them:\n",
    "# sortByVars = c(\"origin\", \"distance\")\n",
    "# To change the sort order, you'll do something very similar:\n",
    "# decreasing = c(TRUE, FALSE)\n",
    "# Remember that you can bring up the documentation by typing ?rxSort\n",
    "# in a code cell and executing that cell\n",
    "\n",
    "# Write the sorting code here:\n",
    "\n",
    "# Check the results\n",
    "rxDataStep(flightsSortedXdf, numRows = 15)"
   ]
  },
  {
   "cell_type": "markdown",
   "metadata": {},
   "source": [
    "## Deduplication\n",
    "\n",
    "Deduplication is another common task within data processing. This task is accomplished through \n",
    "`rxSort()` as well. For example, if we wanted to keep only one entry for each origin airport\n",
    "and month, then we can use those as keys, and specify `removeDupKeys` = TRUE. Use the help to examine which record is kept.\n",
    "\n"
   ]
  },
  {
   "cell_type": "code",
   "execution_count": null,
   "metadata": {
    "collapsed": true
   },
   "outputs": [],
   "source": [
    "?rxSort"
   ]
  },
  {
   "cell_type": "code",
   "execution_count": null,
   "metadata": {
    "collapsed": false
   },
   "outputs": [],
   "source": [
    "rxSort(inData = flightsXdf,\n",
    "       outFile = flightsSortedXdf,\n",
    "       sortByVars = c(\"origin\", \"month\"),\n",
    "       removeDupKeys = TRUE,\n",
    "       overwrite = TRUE)\n",
    "\n",
    "\n",
    "\n",
    "# Check the results\n",
    "rxDataStep(flightsSortedXdf)\n",
    "\n",
    "# How many rows are present in the sorted dataset now?"
   ]
  },
  {
   "cell_type": "markdown",
   "metadata": {},
   "source": [
    "## Merging XDFs\n",
    "\n",
    "Merging two tables is also another common task in data processing. We can accomplish this task in MRS by leveraging the `rxMerge()` function.\n",
    "\n",
    "Merging two XDF files with `rxMerge()` is straightforward if you know SQL. \n",
    "\n",
    "- Specify the two datasets with `inData1` and `inData2`. \n",
    "- Use the `type` argument to specify the kind of join.\n",
    "- Use `matchVars` to name the matching keys on the two XDF files.\n",
    "\n",
    "Unlike SQL, MRS expects the keys to have the same name on both datasets. You\n",
    "can't just say that x.person_id = y.PersonID, but you *can* temporarily\n",
    "rename variables for the purposes of matching with the `newVarNames1` and\n",
    "`newVarNames2` arguments.\n",
    "\n",
    "\n",
    "In this example, we're merge the flights table with the airports table, based on the details of the *origin* airport in the flights table. This will map to the `faa` variable in the airports table."
   ]
  },
  {
   "cell_type": "code",
   "execution_count": null,
   "metadata": {
    "collapsed": false
   },
   "outputs": [],
   "source": [
    "# Examine the two tables to confirm the key names\n",
    "rxDataStep(flightsXdf, numRows = 5)\n",
    "rxDataStep(airportsXdf, numRows = 5)\n",
    "\n",
    "# Merge on the origin airport details\n",
    "# Name of the output Xdf file\n",
    "originMergeXdf <- \"originMerge.xdf\"\n",
    "\n",
    "rxMerge(inData1 = flightsXdf,\n",
    "        inData2 = airportsXdf,\n",
    "        outFile = originMergeXdf,\n",
    "        overwrite = TRUE,\n",
    "        \n",
    "        # Type of join\n",
    "        type = \"left\",\n",
    "        \n",
    "        # Temporarily rename the key\n",
    "        newVarNames2 = c(faa = \"origin\"), # Original name (faa) on the left,\n",
    "                                          # new name (origin) quoted on the right\n",
    "        \n",
    "        # Name the key variable(s)\n",
    "        matchVars = \"origin\"\n",
    ")\n",
    "\n",
    "# Check it\n",
    "rxDataStep(originMergeXdf, numRows = 5)"
   ]
  },
  {
   "cell_type": "code",
   "execution_count": null,
   "metadata": {
    "collapsed": false
   },
   "outputs": [],
   "source": [
    "###################\n",
    "# Exercise 4: Merge on the Destination Airport Details\n",
    "###################\n",
    "\n",
    "\n",
    "# Now, merge the dataset you just created (originMerge.xdf) on the airport \n",
    "# table for the *destination* airport.\n",
    "# Add one new argument: duplicateVarExt = c(\"origin\", \"dest\")\n",
    "# Since we're merging with airportXdf twice, we'll end up with\n",
    "# duplicate variables. duplicateVarExt will append \"origin\"\n",
    "# to the existing variables, and \"dest\" to the new ones.\n",
    "\n",
    "# Resulting dataset location\n",
    "destMergeXdf <- \"destMerge.xdf\"\n",
    "\n",
    "# do the merge!\n",
    "\n",
    "# Check the results using rxDataStep()\n"
   ]
  },
  {
   "cell_type": "markdown",
   "metadata": {},
   "source": [
    "## Subset rows with criteria\n",
    "\n",
    "\n",
    "Selecting particular rows is another common data manipulation\n",
    "task. For example, maybe we want to create a subset of all the flights\n",
    "for a single carrier.\n",
    "\n",
    "In MRS, `rxDataStep()` is the workhorse function for that kind\n",
    "of data manipulation. Its argument `rowSelection` takes\n",
    "a series of criteria and returns matching records.\n",
    "\n",
    "These are standard R comparisons:\n",
    "\n",
    "- Check equality with the DOUBLE equals sign: `x == y`\n",
    "- Perform a logical \"AND\" with `&`: `x == y & x > 10`\n",
    "- Perform a logical \"OR\" with `|`: `x == y | x > 10`\n",
    "\n",
    "In the example below, I  create a subset of all United flights:"
   ]
  },
  {
   "cell_type": "code",
   "execution_count": null,
   "metadata": {
    "collapsed": false
   },
   "outputs": [],
   "source": [
    "# the name of the file that we want to store the filtered\n",
    "# data in\n",
    "united_flights <- \"united.xdf\"\n",
    "\n",
    "# Using rowSelection to select flights\n",
    "rxDataStep(inData = flightsXdf,\n",
    "           outFile = united_flights,\n",
    "           rowSelection = carrier == \"UA\")\n",
    "\n",
    "# Show the results\n",
    "rxDataStep(united_flights, numRows = 5)"
   ]
  },
  {
   "cell_type": "code",
   "execution_count": null,
   "metadata": {
    "collapsed": false
   },
   "outputs": [],
   "source": [
    "###################\n",
    "# Exercise 5: Subset to United Flights Originating at LaGuardia\n",
    "###################\n",
    "\n",
    "# Let's try the subsetting task again, and this time subset to just\n",
    "# United flights that originated in LaGuardia (LGA)\n",
    "\n",
    "# Let's just overwrite the united_flights XDF\n",
    "united_flights <- \"united.xdf\"\n",
    "\n",
    "rxDataStep(united_flights, numRows = 5)"
   ]
  },
  {
   "cell_type": "markdown",
   "metadata": {},
   "source": [
    "## Transforming variables\n",
    "\n",
    "`rxDataStep()` is also the function to use for creating and\n",
    "modifying variables. The key argument there is `transforms`.\n",
    "transforms is a little unusual for R - it takes a list, which is a \n",
    "highly flexible R data structure. Inside that list, each new\n",
    "variable gets an entry like this:\n",
    "\n",
    "`newVar = someFunction(oldVar)`\n",
    "\n",
    "Each entry must be named (e.g. \"newVar\"), and is separated from any\n",
    "following entries by a comma.\n",
    "\n",
    "For example, let's convert year-month-day into a proper Date variable."
   ]
  },
  {
   "cell_type": "code",
   "execution_count": null,
   "metadata": {
    "collapsed": false
   },
   "outputs": [],
   "source": [
    "rxDataStep(inData = flightsXdf,\n",
    "           outFile = flightsXdf,\n",
    "           transforms = list(      # Note the list(\n",
    "               \n",
    "               # First, let's just paste the components together\n",
    "               flightDateString = paste(year, month, day, sep = \"-\"),\n",
    "               \n",
    "               # Then convert it into a Date\n",
    "               flightDate = as.Date(flightDateString),\n",
    "               \n",
    "               # Finally, format it to day of week\n",
    "               dayOfWeek = format(flightDate, format = \"%A\")\n",
    "           ),\n",
    "           overwrite = TRUE\n",
    ")\n",
    "rxDataStep(flightsXdf, numRows = 5)"
   ]
  },
  {
   "cell_type": "markdown",
   "metadata": {},
   "source": [
    "## Multiple Transforms\n",
    "\n",
    "One thing to note from the prior `rxDataStep()` is that the functions we specify in the `transforms` list can actually be used in sequence. The new variable `flightDateString` is defined in the list, but is used to create `flightDate`, which, in turn is used to define `dayOfWeek`."
   ]
  },
  {
   "cell_type": "code",
   "execution_count": null,
   "metadata": {
    "collapsed": false
   },
   "outputs": [],
   "source": [
    "###################\n",
    "# Exercise 6: Calculate Speed\n",
    "###################\n",
    "\n",
    "\n",
    "# Add speed to each flight's records using the transforms argument:\n",
    "# Be sure to measure speed in an appropriate fashion (e.g. miles per hour)\n",
    "\n",
    "rxDataStep(inData = flightsXdf, numRows = 5)"
   ]
  },
  {
   "cell_type": "markdown",
   "metadata": {},
   "source": [
    "## Complex Transformations\n",
    "\n",
    "MRS was built from the very beginning with distributed computation in mind.\n",
    "While that allows for some tremendous performance gains, it also comes with\n",
    "some crucial limitations. For example, when in a distributed context, we\n",
    "can't assume that all or even most of the dataset is available at any\n",
    "given time. Each node may only have a small window on the dataset.\n",
    "\n",
    "More precisely, *ANY* transformation that depends on a value from another row - \n",
    "even just the next row over - has to assume that value won't always be\n",
    "available. Other statistics depend on *every* value in the dataset to be \n",
    "correctly computed - like the mean, minimum, and maximum. Let's take a look\n",
    "at how things can go wrong.\n",
    "\n",
    "Most ScaleR functions already take this into account and take care of the\n",
    "details for you. Unlike those functions, `rxDataStep()` lets you run whatever\n",
    "R code you like on your dataset. The price for that flexibility is that\n",
    "you need to watch out for transformations that depend on values from other\n",
    "rows.\n",
    "\n",
    "To show how this happens, we create a tiny dataset called `chunks_df`\n",
    "that has 9 rows in it. The three variables in this dataset correspond to:\n",
    "\n",
    "- `chunk`: the chunk of data that is processed (with values 1, 2, or 3)\n",
    "- `date`: a series of 9 dates\n",
    "- `x`: a randomly ordered sequence of hte values 21-29\n",
    "\n",
    "We generate and look at this data with the following cell:\n"
   ]
  },
  {
   "cell_type": "code",
   "execution_count": null,
   "metadata": {
    "collapsed": false
   },
   "outputs": [],
   "source": [
    "# To show you how this happens, I'm going to set up a tiny dataset:\n",
    "chunks_df <- data.frame(chunk = (1:9 + 2) %/% 3,\n",
    "                        date = seq(Sys.Date(), length.out = 9, by = \"1 day\"),\n",
    "                        x = sample(21:29, size = 9),\n",
    "                        stringsAsFactors = FALSE\n",
    ")\n",
    "\n",
    "\n",
    "# Take a look at the results: a data frame with just 9 rows, a chunk ID, a date, \n",
    "# and a variable x\n",
    "chunks_df"
   ]
  },
  {
   "cell_type": "markdown",
   "metadata": {},
   "source": [
    "## Create the tiny xdf\n",
    "\n",
    "Next, we import this data into an xdf in order to demonstrate how chunking works. \n",
    "We overwrite the file if it's the first chunk so that we can make sure that the file \n",
    "only has 9 rows, and we append if it's not the first row to make sure that each\n",
    "write appends a new chunk of data:"
   ]
  },
  {
   "cell_type": "code",
   "execution_count": null,
   "metadata": {
    "collapsed": false
   },
   "outputs": [],
   "source": [
    "# Now read it into an XDF file. I'm going to append three rows at a time so that\n",
    "# the XDF file will have three chunks, despite its small size.\n",
    "chunks <- \"chunks.xdf\"\n",
    "    \n",
    "for(i in 1:3) {\n",
    "    rxImport(inData = chunks_df[chunks_df$chunk %in% i, ],\n",
    "             outFile = chunks,\n",
    "             overwrite = i == 1,\n",
    "             append = i > 1)\n",
    "}\n",
    "    \n",
    "rxGetInfo(chunks, getVarInfo = TRUE, numRows = 9)"
   ]
  },
  {
   "cell_type": "markdown",
   "metadata": {},
   "source": [
    "## Problem\n",
    "\n",
    "Now that we have a tiny data set (with tiny chunks), we can explore what happens \n",
    "in a very common scenario. Let's say that you would like to scale variable `x` \n",
    "so that its minimum value = 0 and its maximum value = 1. In practice, this type \n",
    "of transformation is common because it frequently makes it easier to compare \n",
    "variables with very different ranges.\n",
    "\n",
    "If I just wrote the transformation in the classic R style, it might look like the\n",
    "following cell:\n",
    "\n"
   ]
  },
  {
   "cell_type": "code",
   "execution_count": null,
   "metadata": {
    "collapsed": false
   },
   "outputs": [],
   "source": [
    "rxDataStep(inData = chunks,\n",
    "           outFile = chunks,\n",
    "           \n",
    "           # Subtract the minimum of x from each value of x, then divide by\n",
    "           # difference between the minimum and maximum values\n",
    "           transforms = list( xScaledNaive = (x - min(x)) / \n",
    "                                             (max(x) - min(x)) ),\n",
    "           overwrite = TRUE\n",
    ")\n",
    "\n",
    "\n",
    "# Check the results.\n",
    "rxDataStep(chunks)"
   ]
  },
  {
   "cell_type": "markdown",
   "metadata": {},
   "source": [
    "## Understanding what happened \n",
    "\n",
    "If you compare the original and scaled values, you can see that multiple values\n",
    "that aren't the true min and max of x are scaled to zero and one. That's\n",
    "because transformations in `rxDataStep()` work on *one chunk at a time*, and\n",
    "apply the R code you've written to each chunk. So `min()` and `max()` above are\n",
    "correctly returning the minima and maxima of *each chunk*. For the\n",
    "transformation to work as intended, we need the **global** min and max.\n",
    "\n",
    "It's easy to detect the error in this small dataset, but on big datasets with\n",
    "bigger chunks, the error can be much more subtle. So how can we address this?\n",
    "\n",
    "The MRS approach is to calculate the global min and max (or any other global\n",
    "statistic) independently, using a chunk-aware ScaleR function (ie, anything\n",
    "except `rxDataStep()`), and then pass the results back to `rxDataStep()` for the\n",
    "transformation.\n",
    "\n",
    "The min and max are conveniently precomputed in the XDF metadata, so we\n",
    "can just extract them there"
   ]
  },
  {
   "cell_type": "code",
   "execution_count": null,
   "metadata": {
    "collapsed": false
   },
   "outputs": [],
   "source": [
    "# Get the min and max from metadata:\n",
    "xMin <- rxGetVarInfo(chunks)$x$low\n",
    "xMax <- rxGetVarInfo(chunks)$x$high\n",
    "\n",
    "xMin\n",
    "xMax\n"
   ]
  },
  {
   "cell_type": "markdown",
   "metadata": {},
   "source": [
    "## What to do next?\n",
    "\n",
    "Once we have the global min and max, we need to make the `rxDataStep()` process aware of those values\n",
    "by passing them to the `rxDataStep()` call using the `transformObjects` argument.\n",
    "This basically just takes these two values and makes them available inside\n",
    "the environment of rxDataStep()."
   ]
  },
  {
   "cell_type": "code",
   "execution_count": null,
   "metadata": {
    "collapsed": false
   },
   "outputs": [],
   "source": [
    "\n",
    "rxDataStep(inData = chunks,\n",
    "           outFile = chunks,\n",
    "           \n",
    "           # We can use a list() to contain the two values. They have to have\n",
    "           # names, and those names unfortunately have to be different than\n",
    "           # the object names, so I'll just call them minValue and maxValue:\n",
    "           transformObjects = list(minValue = xMin, maxValue = xMax),\n",
    "           \n",
    "           # I can then refer to minValue and maxValue inside my transformation\n",
    "           # code, instead of the original min(x) and max(x):\n",
    "           transforms = list( xScaledCorrect = (x - minValue) / \n",
    "                                               (maxValue - minValue)  ),\n",
    "           overwrite = TRUE\n",
    ")\n",
    "\n",
    "\n",
    "\n",
    "# Compare the results of xScaledNaive and xScaledCorrect\n",
    "rxGetInfo(chunks, numRows = 9)\n",
    "\n",
    "\n",
    "\n",
    "# If this seems complex, that's because it is! Thankfully, you won't\n",
    "# need to make transformations like this very often - but it is one of the\n",
    "# hazards for new MRS programmers."
   ]
  },
  {
   "cell_type": "markdown",
   "metadata": {},
   "source": [
    "## What about other transformations?\n",
    "\n",
    "It is very often that we want to do other transformations. For example, computing z-scores, or centering based on a mean or median is very common.\n",
    "\n",
    "We compute other statistics - means, standard deviations, quantiles, etc - \n",
    "using ScaleR's other summary functions, which we'll see below.\n",
    "\n",
    "Once we have those relevant statistics, the next step off passing them to `rxDataStep()` is the same - we use one of the `transformObjects` arguments to make those values accessible to the the computation.\n",
    "\n"
   ]
  },
  {
   "cell_type": "markdown",
   "metadata": {},
   "source": [
    "## Factors\n",
    "\n",
    "There's one other complex transformation to watch out for: creating categorical variables (or factors in R parlance). Factors are stored in each row as an integer index that maps that particular rows value to a particular dictionary of labels.\n",
    "\n",
    "Because the mapping between integer and label could potentially differ from chunk to chunk,\n",
    "it's easiest to just use `rxFactors()` to manage them. Here's an example.\n",
    "Feel free to skip over it if you want, but be sure to run the code.\n",
    "\n",
    "The key argument in `rxFactors()` is `factorInfo`, which takes a list naming each\n",
    "variable you'd like to create or modify.\n",
    "Each element in that list takes ANOTHER list.\n",
    "Each element of THAT list is an argument that specifies one \n",
    "attribute of a factor - the variable to be converted (e.g. varName), the levels, etc."
   ]
  },
  {
   "cell_type": "code",
   "execution_count": null,
   "metadata": {
    "collapsed": false
   },
   "outputs": [],
   "source": [
    "# Example\n",
    "rxFactors(inData = flightsXdf,\n",
    "          outFile = flightsXdf,\n",
    "          factorInfo = list(\n",
    "              \n",
    "              # The simplest use of rxFactors: create new factors from existing\n",
    "              # character variables. I'll make three new factors, carrier_F,\n",
    "              # origin_F, and dest_F, from the original character variables:\n",
    "              carrier_F = list(varName = \"carrier\"),\n",
    "              origin_F = list(varName = \"origin\"),\n",
    "              dest_F = list(varName = \"dest\"),\n",
    "              \n",
    "              # If I want to specify the order of the levels manually, I can\n",
    "              # add the \"levels\" argument to the list and just type out the\n",
    "              # names of the levels:\n",
    "              dayOfWeek_F = list(varName = \"dayOfWeek\",\n",
    "                                 levels = c(\"Sunday\", \"Monday\", \"Tuesday\",\n",
    "                                            \"Wednesday\", \"Thursday\", \"Friday\",\n",
    "                                            \"Saturday\"))\n",
    "          ),\n",
    "          overwrite = TRUE\n",
    ")\n",
    "\n",
    "\n",
    "# Check the results\n",
    "rxGetVarInfo(flightsXdf)"
   ]
  },
  {
   "cell_type": "markdown",
   "metadata": {},
   "source": [
    "## Summary Statistics\n",
    "\n",
    "Thankfully, most MRS functions know they're working on chunked data and handle\n",
    "computations accordingly. In this section, we'll look at the essential summary\n",
    "statistics functions in MRS:\n",
    "\n",
    "- `rxSummary()` for classic quantitative descriptive stats\n",
    "- `rxQuantile()` for quantiles and the median\n",
    "- `rxCrossTabs()` and `rxCube()` for crosstabulation"
   ]
  },
  {
   "cell_type": "markdown",
   "metadata": {},
   "source": [
    "### rxSummary()\n",
    "\n",
    "`rxSummary()` is the primary function for summarizing numeric\n",
    "variables, and it works like summary functions in many other languages.\n",
    "\n",
    "There is one twist: `rxSummary()` uses R's formula syntax to identify which\n",
    "variables should be summarized. The formula syntax is very helpful for\n",
    "specifying complex relationships between variables, but a little confusing in\n",
    "this simple case. For `rxSummary()`, you can just type a tilde (~) and then name\n",
    "the variables you'd like to summarize, separated by a plus sign:"
   ]
  },
  {
   "cell_type": "code",
   "execution_count": null,
   "metadata": {
    "collapsed": false
   },
   "outputs": [],
   "source": [
    "# Continuous variable example with multiple variables to be summarized \n",
    "rxSummary( ~ arr_delay + dayOfWeek_F, data = flightsXdf)"
   ]
  },
  {
   "cell_type": "markdown",
   "metadata": {},
   "source": [
    "### Group-wise summaries\n",
    "\n",
    "If you want a groupwise summary, put the variable you want to summarize on the\n",
    "*left* of the tilde, and your grouping variable on the right.\n",
    "The grouping variable MUST be a factor!"
   ]
  },
  {
   "cell_type": "code",
   "execution_count": null,
   "metadata": {
    "collapsed": false
   },
   "outputs": [],
   "source": [
    "# Here, we can see average departure delay by origin airport\n",
    "rxSummary(dep_delay ~ origin_F, data = flightsXdf)"
   ]
  },
  {
   "cell_type": "code",
   "execution_count": null,
   "metadata": {
    "collapsed": false
   },
   "outputs": [],
   "source": [
    "# You can get quantiles using rxQuantile() - but only one variable\n",
    "# at a time. The median flight was four minutes early!\n",
    "rxQuantile(varName = \"arr_delay\", data = flightsXdf)"
   ]
  },
  {
   "cell_type": "code",
   "execution_count": null,
   "metadata": {
    "collapsed": true
   },
   "outputs": [],
   "source": [
    "###################\n",
    "# Exercise 7: Summarize some variables\n",
    "###################\n",
    "\n",
    "# 1. Try summarizing a few different variables in flightsXdf.\n",
    "# 2. Summarize arr_delay for each level of one of the factors."
   ]
  },
  {
   "cell_type": "markdown",
   "metadata": {},
   "source": [
    "### Summarizing Categorical Variables\n",
    "\n",
    "To summarize categorical values, use `rxCrossTabs()` or `rxCube()`.\n",
    "These two functions have the same syntax and functionality, but have different outputs and different defaults. \n",
    "\n",
    "These use R's formula syntax\n",
    "as well - but instead of separating the right-hand variables with plus signs,\n",
    "they're separated by colons. This is R's arcane way of expressing that we\n",
    "want to know about the relationship between these two variables, but without\n",
    "designating one the predictor and one the predicted."
   ]
  },
  {
   "cell_type": "code",
   "execution_count": null,
   "metadata": {
    "collapsed": false
   },
   "outputs": [],
   "source": [
    "# Compare the output of these two identical calls:\n",
    "rxCrossTabs( ~ dest_F : origin_F, data = flightsXdf)\n",
    "\n",
    "rxCube( ~ dest_F : origin_F, data = flightsXdf)"
   ]
  },
  {
   "cell_type": "markdown",
   "metadata": {},
   "source": [
    "### Differences between rxCrossTabs() and rxCube()\n",
    "\n",
    "The primary differences between `rxCrossTabs()` and `rxCube()` are the output structures. As seen above, `rxCrossTabs()` returns a N-dimensional table of counts, which will be stored in-memory in the R-session. `rxCube()` returns a `list()` object that can be coerced to an internal `data.frame()` like object that can easily be written to an xdf file. These are options within `rxCube()` as well - you can return an actual data.frame by setting the argument `returnDataFrame = TRUE`, and like many other ScaleR functions, you can immediately write to an XDF file by assigning a non-NULL value to the `outFile` argument.\n",
    "\n",
    "The other main difference between `rxCrossTabs()` and `rxCube()` (which isn't apparent in this example) is that you can compute groupwise means or sums with the two functions by interacting a single numeric variable with categorical variables. By default, `rxCrossTabs()` will compute group-wise sums, and `rxCube()` will compute group-wise means. See the `means` argument for each function and their default values.\n",
    "\n",
    "See the help for more information (`?rxCrossTabs` and `?rxCube`)\n",
    "\n"
   ]
  },
  {
   "cell_type": "code",
   "execution_count": null,
   "metadata": {
    "collapsed": true
   },
   "outputs": [],
   "source": [
    "###################\n",
    "# Exercise 8: Crosstabs\n",
    "###################\n",
    "\n",
    "# Now try adding a third variable to both rxCrossTabs() and rxCube(), and\n",
    "# compare their output.\n",
    "# What happens if that third variable is numeric? a factor?"
   ]
  },
  {
   "cell_type": "markdown",
   "metadata": {},
   "source": [
    "## Predictive Modeling\n",
    "\n",
    "Finally, MRS includes a suite of fast, distributed algorithms for statistical\n",
    "modeling and machine learning, which includes:\n",
    "- Linear regression (`rxLinMod()`)\n",
    "- Logistic regression (`rxLogit()`)\n",
    "- Generalized linear models (`rxGLM()`)\n",
    "- Decision trees (`rxDTree()`)\n",
    "- Gradient boosted decision trees (`rxBTree()`)\n",
    "- Decision forests (`rxDForest()`)\n",
    "- K-means (`rxKmeans()`)\n",
    "- Naive Bayes (`rxNaiveBayes()`)\n",
    "\n",
    "\n",
    "## Predicting Arrival Delay\n",
    "Model syntax in MRS is usually very similar to open-source R. You can estimate the\n",
    "model using the relevant call (e.g. `rxLinMod()`), and then view the model and access\n",
    "the model using standard function calls (`summary()`, `coef()`, etc).\n",
    "\n",
    "Here's a simple linear regression predicting arrival delay, using the formula\n",
    "syntax again. I put my dependent variable on the left-hand side of the tilde,\n",
    "and my predictor on the right:"
   ]
  },
  {
   "cell_type": "code",
   "execution_count": null,
   "metadata": {
    "collapsed": false
   },
   "outputs": [],
   "source": [
    "# Example model syntax.\n",
    "mod1 <- rxLinMod(arr_delay ~ origin_F, data = flightsXdf)\n",
    "\n",
    "# To see the results of the model, use R's summary() function on it:\n",
    "summary(mod1)"
   ]
  },
  {
   "cell_type": "markdown",
   "metadata": {},
   "source": [
    "## Saving the model for a later session\n",
    "\n",
    "Similar to open source R, we can save the model for later by saving it to disk using `save()`, \n",
    "and then load it back into memory later with `load()`.\n",
    "\n",
    "Let's save the estimated model first:"
   ]
  },
  {
   "cell_type": "code",
   "execution_count": null,
   "metadata": {
    "collapsed": true
   },
   "outputs": [],
   "source": [
    "# This model object can be saved to a file:\n",
    "save(mod1, file = \"model.Rdata\")\n",
    "\n",
    "# remove the model from the workspace:\n",
    "rm(mod1)\n",
    "\n",
    "# show that it's no longer available:\n",
    "ls(pattern = \"mod1\")"
   ]
  },
  {
   "cell_type": "markdown",
   "metadata": {},
   "source": [
    "## Loading the model\n",
    "\n",
    "Now let's load it back and make sure it looks the same as above."
   ]
  },
  {
   "cell_type": "code",
   "execution_count": null,
   "metadata": {
    "collapsed": false
   },
   "outputs": [],
   "source": [
    "\n",
    "# And later re-loaded and used for predictions:\n",
    "load(\"model.Rdata\")\n",
    "\n",
    "# it's back!\n",
    "ls(pattern = \"mod1\")\n",
    "\n",
    "summary(mod1)"
   ]
  },
  {
   "cell_type": "markdown",
   "metadata": {},
   "source": [
    "## Generating Predictions\n",
    "\n",
    "Predictions are also generated in a very similar way to predictions within\n",
    "open source R. Rather than using `predict()`, we use `rxPredict()` for a ScaleR\n",
    "model object.\n",
    "\n"
   ]
  },
  {
   "cell_type": "code",
   "execution_count": null,
   "metadata": {
    "collapsed": false
   },
   "outputs": [],
   "source": [
    "# New data with an appropriate variable:\n",
    "newData <- data.frame(origin_F = factor(c(\"EWR\", \"LGA\", \"JFK\"),\n",
    "                                        levels = c(\"EWR\", \"LGA\", \"JFK\")))\n",
    "\n",
    "# Then use rxPredict to apply the model to the new data\n",
    "rxPredict(modelObject = mod1, data = newData)"
   ]
  },
  {
   "cell_type": "code",
   "execution_count": null,
   "metadata": {
    "collapsed": true
   },
   "outputs": [],
   "source": [
    "###################\n",
    "# Exercise 9: Build a Model\n",
    "###################\n",
    "\n",
    "\n",
    "# Expand the linear regression above into a more model that accounts for more variance\n",
    "# Try one of the other algorithms for predicting arrival delay\n",
    "# If you feel like getting fancy, use rxSplit() (see help via ?rxSplit) to separate the data into\n",
    "# testing and training sets!\n",
    "\n",
    "# Quick formula examples:\n",
    "# To predict y as a function of x:                   y ~ x\n",
    "# To predict y as a function of x and z:             y ~ x + z\n",
    "# To estimate an interaction between x and z:        y ~ x * z"
   ]
  }
 ],
 "metadata": {
  "kernelspec": {
   "display_name": "R",
   "language": "R",
   "name": "ir"
  },
  "language_info": {
   "codemirror_mode": "r",
   "file_extension": ".r",
   "mimetype": "text/x-r-source",
   "name": "R",
   "pygments_lexer": "r",
   "version": "3.2.2"
  }
 },
 "nbformat": 4,
 "nbformat_minor": 0
}
